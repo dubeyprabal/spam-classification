{
 "cells": [
  {
   "cell_type": "code",
   "execution_count": null,
   "id": "ed2f08d9",
   "metadata": {},
   "outputs": [
    {
     "name": "stdout",
     "output_type": "stream",
     "text": [
      "Accuracy: 0.9719806763285024\n",
      "              precision    recall  f1-score   support\n",
      "\n",
      "           0       0.98      0.98      0.98       739\n",
      "           1       0.94      0.96      0.95       296\n",
      "\n",
      "    accuracy                           0.97      1035\n",
      "   macro avg       0.96      0.97      0.97      1035\n",
      "weighted avg       0.97      0.97      0.97      1035\n",
      "\n"
     ]
    }
   ],
   "source": [
    "import pandas as pd\n",
    "from sklearn.model_selection import train_test_split\n",
    "from sklearn.linear_model import LogisticRegression\n",
    "from sklearn.metrics import classification_report, accuracy_score\n",
    "\n",
    "df = pd.read_csv('emails.csv')\n",
    "\n",
    "X = df.iloc[:, 1:-1]  # All word columns\n",
    "y = df['Prediction']\n",
    "\n",
    "X_train, X_test, y_train, y_test = train_test_split(X, y, test_size=0.2, random_state=42)\n",
    "\n",
    "model = LogisticRegression(max_iter=1000)\n",
    "model.fit(X_train, y_train)\n",
    "\n",
    "y_pred = model.predict(X_test)\n",
    "\n",
    "print(\"Accuracy:\", accuracy_score(y_test, y_pred))\n",
    "print(classification_report(y_test, y_pred))"
   ]
  },
  {
   "cell_type": "code",
   "execution_count": 42,
   "id": "dbe23421",
   "metadata": {},
   "outputs": [],
   "source": [
    "from sklearn.feature_extraction.text import TfidfVectorizer\n",
    "import numpy as np\n",
    "from collections import Counter\n",
    "import re\n",
    "vectorizer = TfidfVectorizer()"
   ]
  },
  {
   "cell_type": "code",
   "execution_count": null,
   "id": "40572e59",
   "metadata": {},
   "outputs": [],
   "source": [
    "def predict_email_spam(email_text):\n",
    "    \"\"\"\n",
    "    Predict if the given email text is spam or not.\n",
    "    ## param\n",
    "    **email_text**: str, the email content to classify\n",
    "    ## return\n",
    "    **str**: 'Spam' or 'Not Spam'\n",
    "    \"\"\"\n",
    "    \n",
    "    vectorizer.fit(X.columns)\n",
    "    email_features = vectorizer.transform([email_text])\n",
    "\n",
    "    words = re.findall(r'\\b\\w+\\b', email_text.lower())\n",
    "    word_counts = Counter(words)\n",
    "    email_features = np.array([[word_counts.get(col, 0) for col in X.columns]])\n",
    "\n",
    "    prediction = model.predict(email_features)\n",
    "\n",
    "    return 'Spam' if prediction[0] == 1 else 'Not Spam'"
   ]
  },
  {
   "cell_type": "code",
   "execution_count": 47,
   "id": "972d522f",
   "metadata": {},
   "outputs": [
    {
     "name": "stderr",
     "output_type": "stream",
     "text": [
      "C:\\Users\\DELL\\AppData\\Roaming\\Python\\Python312\\site-packages\\sklearn\\utils\\validation.py:2739: UserWarning: X does not have valid feature names, but LogisticRegression was fitted with feature names\n",
      "  warnings.warn(\n"
     ]
    },
    {
     "data": {
      "text/plain": [
       "'Not Spam'"
      ]
     },
     "execution_count": 47,
     "metadata": {},
     "output_type": "execute_result"
    }
   ],
   "source": [
    "predict_email_spam(\"Dear MHR Residents, This is to inform you that a new mess menu has been prepared for the upcoming week.Kindly find the updated mess menu attached below for your reference. We request all residents to review the menu. New General Secretary will monitor the implementation and address any concerns or feedback raised. Warm regards, Prabal Dubey \")  # Example usage"
   ]
  }
 ],
 "metadata": {
  "kernelspec": {
   "display_name": "Python 3",
   "language": "python",
   "name": "python3"
  },
  "language_info": {
   "codemirror_mode": {
    "name": "ipython",
    "version": 3
   },
   "file_extension": ".py",
   "mimetype": "text/x-python",
   "name": "python",
   "nbconvert_exporter": "python",
   "pygments_lexer": "ipython3",
   "version": "3.12.9"
  }
 },
 "nbformat": 4,
 "nbformat_minor": 5
}
